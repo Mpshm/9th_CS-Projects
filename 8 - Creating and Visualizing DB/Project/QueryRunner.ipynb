{
 "cells": [
  {
   "cell_type": "code",
   "execution_count": null,
   "metadata": {},
   "outputs": [],
   "source": [
    "import sqlite3\n",
    "import csv\n",
    "\n",
    "def run_query(sql_query, db_file):\n",
    "    conn = sqlite3.connect(db_file)\n",
    "    cursor = conn.cursor()\n",
    "\n",
    "    cursor.execute(sql_query)\n",
    "\n",
    "    rows = cursor.fetchall()\n",
    "    \n",
    "    print(f\"Number of the rows : { len(rows) }\")\n",
    "\n",
    "    for row in rows[:3]: print(row)\n",
    "\n",
    "    conn.close()\n",
    "\n",
    "\n",
    "def create_table(db_name, tables):\n",
    "    conn = sqlite3.connect(db_name)\n",
    "    cursor = conn.cursor()\n",
    "\n",
    "    for table_name, schema in tables.items():\n",
    "        cursor.execute(f\"CREATE TABLE IF NOT EXISTS { table_name } ({ schema })\")\n",
    "\n",
    "    conn.commit()\n",
    "    conn.close()\n",
    "\n",
    "\n",
    "def populate_table_from_csv(db_name, table_name, csv_file):\n",
    "    conn = sqlite3.connect(db_name)\n",
    "    cursor = conn.cursor()\n",
    "\n",
    "    with open(csv_file, 'r', newline='', encoding='utf-8') as csvfile:\n",
    "        lines = csvfile.readlines()\n",
    "        for line in lines[1:]:\n",
    "            values = line.strip().split(',')\n",
    "            print(values)\n",
    "            cursor.execute(f\"INSERT INTO { table_name } VALUES ({','.join( ['?'] * len(values) )})\", values)\n",
    "\n",
    "    conn.commit()\n",
    "    conn.close()"
   ]
  },
  {
   "cell_type": "code",
   "execution_count": null,
   "metadata": {},
   "outputs": [],
   "source": [
    "# Setup\n",
    "\n",
    "Tables = {\n",
    "    'BazaarApps': 'Name TEXT PRIMARY KEY, Developer TEXT, Installs INTEGER, Category_FA TEXT, Size TEXT, Rating INTEGER, Votes INTEGER, Five_Stars INTEGER, One_Stars INTEGER', \n",
    "\n",
    "    'MyketApps': 'Name TEXT PRIMARY KEY, Installs INTEGER, Rating INTEGER, Votes INTEGER, Category_FA TEXT, Category_EN TEXT',\n",
    "}\n",
    "\n",
    "create_table('IrAppStores.db', Tables)\n",
    "\n",
    "populate_table_from_csv('IrAppStores.db', 'BazaarApps', 'DataSets/BazaarApps.csv')\n",
    "\n",
    "populate_table_from_csv('IrAppStores.db', 'MyketApps', 'DataSets/MyketApps.csv')"
   ]
  }
 ],
 "metadata": {
  "kernelspec": {
   "display_name": "Python 3",
   "language": "python",
   "name": "python3"
  },
  "language_info": {
   "codemirror_mode": {
    "name": "ipython",
    "version": 3
   },
   "file_extension": ".py",
   "mimetype": "text/x-python",
   "name": "python",
   "nbconvert_exporter": "python",
   "pygments_lexer": "ipython3",
   "version": "3.10.0"
  }
 },
 "nbformat": 4,
 "nbformat_minor": 2
}
