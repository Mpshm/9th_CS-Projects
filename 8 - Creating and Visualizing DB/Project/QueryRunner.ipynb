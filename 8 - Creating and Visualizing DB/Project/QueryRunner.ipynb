{
 "cells": [
  {
   "cell_type": "code",
   "execution_count": 3,
   "metadata": {},
   "outputs": [],
   "source": [
    "import sqlite3\n",
    "import csv\n",
    "\n",
    "def run_query(sql_query, db_file):\n",
    "    conn = sqlite3.connect(db_file)\n",
    "    cursor = conn.cursor()\n",
    "\n",
    "    cursor.execute(sql_query)\n",
    "\n",
    "    rows = cursor.fetchall()\n",
    "\n",
    "    conn.close()\n",
    "\n",
    "    return rows\n",
    "\n",
    "\n",
    "def create_table(db_name, tables):\n",
    "    conn = sqlite3.connect(db_name)\n",
    "    cursor = conn.cursor()\n",
    "\n",
    "    for table_name, schema in tables.items():\n",
    "        cursor.execute(f\"CREATE TABLE IF NOT EXISTS { table_name } ({ schema })\")\n",
    "\n",
    "    conn.commit()\n",
    "    conn.close()\n",
    "\n",
    "\n",
    "def populate_table_from_csv(db_name, table_name, csv_file):\n",
    "    conn = sqlite3.connect(db_name)\n",
    "    cursor = conn.cursor()\n",
    "\n",
    "    with open(csv_file, 'r', newline='', encoding='utf-8') as csvfile:\n",
    "        lines = list( csv.reader( csvfile ) )\n",
    "        for values in lines[1:]:\n",
    "            cursor.execute(f\"INSERT INTO { table_name } VALUES ({','.join( ['?'] * len(values) )})\", values)\n",
    "\n",
    "    conn.commit()\n",
    "    conn.close()"
   ]
  },
  {
   "cell_type": "code",
   "execution_count": 5,
   "metadata": {},
   "outputs": [],
   "source": [
    "# Setup\n",
    "\n",
    "db_name = 'Youtube_Spotify_Top.db'\n",
    "Tables = {\n",
    "    'YoutubeTop' : 'Rank INT PRIMARY KEY, Channel VARCHAR, Subs INT, Vid_Views INT, Vid_Count INT, Category VARCHAR, Start INT',\n",
    "\n",
    "    'SpotifyTop' : 'Rank INT PRIMARY KEY, Artist VARCHAR, Listeners INT, PKListeners INT, Daily_Trend INT',\n",
    "\n",
    "    'YoutubeArtists' : 'ID INT PRIMARY KEY, Artist VARCHAR, Url_Spotify VARCHAR, Track VARCHAR, Album VARCHAR, Album_Type VARCHAR, Duration_ms INT, Url_Youtube VARCHAR, Title VARCHAR, Channel VARCHAR, Views INT, Likes INT, Comments INT, Stream INT, Danceability FLOAT, Licensed BOOL, Official_Video BOOL'\n",
    "}\n",
    "\n",
    "create_table(db_name, Tables)\n",
    "\n",
    "populate_table_from_csv(db_name, 'YoutubeTop', 'DataSets/YoutubeTop.csv')\n",
    "\n",
    "populate_table_from_csv(db_name, 'SpotifyTop', 'DataSets/SpotifyTop.csv')\n",
    "\n",
    "populate_table_from_csv(db_name, 'YoutubeArtists', 'DataSets/YoutubeArtists.csv')"
   ]
  },
  {
   "cell_type": "code",
   "execution_count": null,
   "metadata": {},
   "outputs": [],
   "source": [
    "# Description\n",
    "\n",
    "query = '''\n",
    "Select \n",
    "'''\n",
    "\n",
    "run_query(query, db_name)"
   ]
  }
 ],
 "metadata": {
  "kernelspec": {
   "display_name": "Python 3",
   "language": "python",
   "name": "python3"
  },
  "language_info": {
   "codemirror_mode": {
    "name": "ipython",
    "version": 3
   },
   "file_extension": ".py",
   "mimetype": "text/x-python",
   "name": "python",
   "nbconvert_exporter": "python",
   "pygments_lexer": "ipython3",
   "version": "3.10.0"
  }
 },
 "nbformat": 4,
 "nbformat_minor": 2
}
